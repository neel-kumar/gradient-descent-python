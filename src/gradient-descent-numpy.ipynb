{
 "cells": [
  {
   "cell_type": "code",
   "execution_count": 1,
   "metadata": {},
   "outputs": [],
   "source": [
    "# Use gradient descent to fit a line to a set of randomly generated points using numpy.\n",
    "\n",
    "from bokeh.plotting import figure, show, output_file, save\n",
    "import random\n",
    "from datetime import datetime\n",
    "import numpy as np"
   ]
  },
  {
   "cell_type": "code",
   "execution_count": 2,
   "metadata": {},
   "outputs": [],
   "source": [
    "# Co-efficients of a straight line\n",
    "a_org = 5\n",
    "b_org = 3\n",
    "\n",
    "# Start of the line\n",
    "x_start = 0\n",
    "\n",
    "# End of the line\n",
    "x_end = 10\n",
    "\n",
    "# How far away the points can be from the line on the y axis\n",
    "pm = 10\n",
    "\n",
    "# How many points\n",
    "n = 1000\n",
    "\n",
    "# The range of randomly generated x axis values\n",
    "x_min = 0\n",
    "x_max = 10\n",
    "\n",
    "# Error limit\n",
    "err_limit = 0.1\n",
    "\n",
    "# Learning Rate\n",
    "lr = 0.001"
   ]
  },
  {
   "cell_type": "code",
   "execution_count": 3,
   "metadata": {},
   "outputs": [],
   "source": [
    "x = np.random.randint(x_min, x_max, n)\n",
    "py = x * a_org + b_org\n",
    "y = py - np.random.randint(-pm, pm, n)\n",
    "# x, py, y"
   ]
  },
  {
   "cell_type": "code",
   "execution_count": 4,
   "metadata": {
    "scrolled": true
   },
   "outputs": [
    {
     "data": {
      "text/plain": [
       "32.623"
      ]
     },
     "execution_count": 4,
     "metadata": {},
     "output_type": "execute_result"
    }
   ],
   "source": [
    "def gen_scatter(a, b, n, pm, x_min, x_max):\n",
    "    x2 = np.random.randint(x_min, x_max, n)\n",
    "    py = a * x2 + b\n",
    "    y2 = py - np.random.randint(-pm, pm, n)\n",
    "    return x2, y2\n",
    "x2, y2 = gen_scatter(a_org, b_org, n, pm, x_min, x_max)\n",
    "x2, y2\n",
    "\n",
    "def err(a, b, x_array, y_array):\n",
    "    y = a * x_array + b\n",
    "    return np.average((y - y_array) ** 2)\n",
    "e = err(a_org, b_org, x2, y2)\n",
    "e"
   ]
  },
  {
   "cell_type": "code",
   "execution_count": 5,
   "metadata": {},
   "outputs": [
    {
     "data": {
      "text/plain": [
       "(-3.902, -0.994)"
      ]
     },
     "execution_count": 5,
     "metadata": {},
     "output_type": "execute_result"
    }
   ],
   "source": [
    "def avg_slope_err(x_array, y_array, a, b):\n",
    "    y = a * x_array + b\n",
    "    avg_a_err = np.average(2 * (y - y_array) * x_array)\n",
    "    avg_b_err = np.average(2 * (y - y_array))\n",
    "    return [avg_a_err, avg_b_err] \n",
    "a, b = avg_slope_err(x2, y2, a_org, b_org)\n",
    "a, b"
   ]
  },
  {
   "cell_type": "code",
   "execution_count": 6,
   "metadata": {},
   "outputs": [],
   "source": [
    "points = gen_scatter(a_org, b_org, n, pm, x_min, x_max)"
   ]
  },
  {
   "cell_type": "code",
   "execution_count": 7,
   "metadata": {},
   "outputs": [
    {
     "name": "stdout",
     "output_type": "stream",
     "text": [
      "The Time at the start of gd is 2019-05-25 09:08:51.261165. gd_a = -1. gd_b = 0.9461353082720048\n",
      "The Time at iteration # 10000 of gd is 2019-05-25 09:08:51.500303 gd_a 4.954977708155353 gd_b 3.705463406945414 err 32.35849810629747.\n",
      "The Time at iteration # 20000 of gd is 2019-05-25 09:08:51.740048 gd_a 4.953540300523982 gd_b 3.714604791807357 err 32.358475311197985.\n",
      "The Time at iteration # 30000 of gd is 2019-05-25 09:08:51.977806 gd_a 4.953532914292998 gd_b 3.7146517655249127 err 32.358475310596084.\n",
      "The Time at iteration # 40000 of gd is 2019-05-25 09:08:52.219543 gd_a 4.95353287633828 gd_b 3.7146520069030045 err 32.35847531059606.\n",
      "The Time at iteration # 50000 of gd is 2019-05-25 09:08:52.456692 gd_a 4.953532876143245 gd_b 3.7146520081433416 err 32.35847531059606.\n",
      "The Time at iteration # 60000 of gd is 2019-05-25 09:08:52.693524 gd_a 4.953532876142329 gd_b 3.714652008149219 err 32.35847531059606.\n",
      "The Time at iteration # 70000 of gd is 2019-05-25 09:08:52.932548 gd_a 4.953532876142329 gd_b 3.714652008149219 err 32.35847531059606.\n",
      "The Time at iteration # 80000 of gd is 2019-05-25 09:08:53.164994 gd_a 4.953532876142329 gd_b 3.714652008149219 err 32.35847531059606.\n",
      "The Time at iteration # 90000 of gd is 2019-05-25 09:08:53.403749 gd_a 4.953532876142329 gd_b 3.714652008149219 err 32.35847531059606.\n",
      "The Time at iteration # 100000 of gd is 2019-05-25 09:08:53.639717 gd_a 4.953532876142329 gd_b 3.714652008149219 err 32.35847531059606.\n",
      "The Time at the end of gd is 2019-05-25 09:08:53.639876. gd_a = 4.953532876142329. gd_b = 3.714652008149219\n",
      "The original a is 5 and the original b is 3. The error for these values are 32.623\n"
     ]
    }
   ],
   "source": [
    "# declaring the variables for gradient decent\n",
    "gd_a = random.randint(-x_max, x_max)\n",
    "gd_b = random.random()\n",
    "\n",
    "i = 0\n",
    "max_i = 100000\n",
    "\n",
    "print (\"The Time at the start of gd is {}. gd_a = {}. gd_b = {}\".format(datetime.now(), gd_a, gd_b))\n",
    "\n",
    "# This is the part of the program that does gradient decent\n",
    "while (i < max_i):\n",
    "    i = i + 1\n",
    "    ase = avg_slope_err(x2,y2, gd_a, gd_b)\n",
    "\n",
    "\n",
    "    # This utilizes the avg_slpoe_err function))\n",
    "    gd_a = gd_a - ase[0] * lr\n",
    "    gd_b = gd_b - ase[1] * lr\n",
    "    \n",
    "    if i % 10000 == 0:\n",
    "        print (\"The Time at iteration # {} of gd is {} gd_a {} gd_b {} err {}.\".format(i, datetime.now(), gd_a, gd_b, err(gd_a, gd_b, x2, y2)))\n",
    "\n",
    "print (\"The Time at the end of gd is {}. gd_a = {}. gd_b = {}\".format(datetime.now(), gd_a, gd_b))\n",
    "print (\"The original a is {} and the original b is {}. The error for these values are {}\".format(a_org, b_org, err(a_org, b_org, x2, y2)))"
   ]
  },
  {
   "cell_type": "code",
   "execution_count": null,
   "metadata": {},
   "outputs": [],
   "source": []
  }
 ],
 "metadata": {
  "kernelspec": {
   "display_name": "Python 3",
   "language": "python",
   "name": "python3"
  },
  "language_info": {
   "codemirror_mode": {
    "name": "ipython",
    "version": 3
   },
   "file_extension": ".py",
   "mimetype": "text/x-python",
   "name": "python",
   "nbconvert_exporter": "python",
   "pygments_lexer": "ipython3",
   "version": "3.7.1"
  }
 },
 "nbformat": 4,
 "nbformat_minor": 2
}
